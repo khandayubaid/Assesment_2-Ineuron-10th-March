{
 "cells": [
  {
   "cell_type": "markdown",
   "metadata": {},
   "source": [
    "## Q1. You have an input dictionary given,\n",
    "\n",
    "input_dict = {\"abc\":{\"def\":{\"ghi\":{\"jkl\":{\"mno\":{\"pqr\":{\"stu\":{\"vwx\":{\"yz\":\"you are finally here !!!\"}}}}}}}}}\n",
    "\n",
    "Task:  You have to write a Python function that will take this input and print it like that,\n",
    "\n",
    "output = {\"abc\":[\"def\",\"ghi\",\"jkl\",\"mno\",\"pqr\",\"stu\",\"vwx\",\"yz\"],\n",
    "\n",
    " \"def\":[\"ghi\",\"jkl\",\"mno\",\"pqr\",\"stu\",\"vwx\",\"yz\"],\n",
    " \n",
    " \"ghi\":[\"jkl\",\"mno\",\"pqr\",\"stu\",\"vwx\",\"yz\"],\n",
    " \n",
    " \"jkl\":[\"mno\",\"pqr\",\"stu\",\"vwx\",\"yz\"],\n",
    " \n",
    " \"mno\":[\"pqr\",\"stu\",\"vwx\",\"yz\"],\n",
    " \n",
    " \"pqr\":[\"stu\",\"vwx\",\"yz\"],\n",
    " \n",
    " \"stu\":[\"vwx\",\"yz\"],\n",
    " \n",
    " \"vwx\":[\"yz\"],\n",
    " \n",
    " \"yz\":[\"you are finally here !!!\"]}"
   ]
  },
  {
   "cell_type": "code",
   "execution_count": 17,
   "metadata": {},
   "outputs": [
    {
     "name": "stdout",
     "output_type": "stream",
     "text": [
      "{'yz': 'you are finally here !!!'}\n"
     ]
    }
   ],
   "source": [
    "def print_nested_dict(input_dict):\n",
    "    output = {}\n",
    "\n",
    "    def traverse_dict(input_dict, keys):\n",
    "        for key, value in input_dict.items():\n",
    "            new_keys = keys + [key]\n",
    "            if isinstance(value, dict):\n",
    "                traverse_dict(value, new_keys)\n",
    "            else:\n",
    "                output[key] = new_keys\n",
    "\n",
    "    traverse_dict(input_dict, [])\n",
    "    \n",
    "    # Modify the output to handle the \"yz\" key\n",
    "    yz_value = input_dict['abc']['def']['ghi']['jkl']['mno']['pqr']['stu']['vwx']['yz']\n",
    "    output['yz'] = yz_value\n",
    "\n",
    "    return output\n",
    "\n",
    "# Input dictionary\n",
    "input_dict = {\"abc\":{\"def\":{\"ghi\":{\"jkl\":{\"mno\":{\"pqr\":{\"stu\":{\"vwx\":{\"yz\":\"you are finally here !!!\"}}}}}}}}}\n",
    "\n",
    "# Generate the output dictionary\n",
    "output_dict = print_nested_dict(input_dict)\n",
    "\n",
    "# Print the output dictionary\n",
    "print(output_dict)\n"
   ]
  },
  {
   "cell_type": "code",
   "execution_count": null,
   "metadata": {},
   "outputs": [],
   "source": []
  },
  {
   "cell_type": "markdown",
   "metadata": {},
   "source": [
    "## Q2. \n",
    "Given an array of length ‘N’, where each element denotes the position of a stall. Now you have ‘N’ stalls and an integer ‘K’ which denotes the number of horses that are mad. To prevent the horses from hurting each other, you need to assign the horses to the stalls, such that the minimum distance between any two of them is as large as possible. Return the largest minimum distance.\n",
    "\n",
    "array: 1,2,4,8,9  &  k=3\n",
    "\n",
    "O/P: 3\n",
    "\n",
    "Explanation: 1st horse at stall 1, 2nd horse at stall 4 and 3rd horse at stall 8"
   ]
  },
  {
   "cell_type": "code",
   "execution_count": 13,
   "metadata": {},
   "outputs": [
    {
     "name": "stdout",
     "output_type": "stream",
     "text": [
      "The maximum possible minimum distance is: 3\n"
     ]
    }
   ],
   "source": [
    "def canWePlace(stalls, dist, horse):\n",
    "    n = len(stalls)  # size of array\n",
    "    cnthorse = 1  # no. of horse placed\n",
    "    last = stalls[0]  # position of last placed cow\n",
    "    for i in range(1, n):\n",
    "        if stalls[i] - last >= dist:\n",
    "            cnthorse += 1  # place next cow\n",
    "            last = stalls[i]  # update the last location\n",
    "        if cnthorse >= horse:\n",
    "            return True\n",
    "    return False\n",
    "\n",
    "def aggressivehorses(stalls, k):\n",
    "    n = len(stalls)  # size of array\n",
    "    stalls.sort()  # sort the stalls\n",
    "\n",
    "    low = 1\n",
    "    high = stalls[n - 1] - stalls[0]\n",
    "    # apply binary search\n",
    "    while low <= high:\n",
    "        mid = (low + high) // 2\n",
    "        if canWePlace(stalls, mid, k):\n",
    "            low = mid + 1\n",
    "        else:\n",
    "            high = mid - 1\n",
    "    return high\n",
    "\n",
    "stalls = [0, 3, 4, 7, 10, 9]\n",
    "k = 4\n",
    "ans = aggressivehorses(stalls, k)\n",
    "print(\"The maximum possible minimum distance is:\", ans)"
   ]
  },
  {
   "cell_type": "code",
   "execution_count": null,
   "metadata": {},
   "outputs": [],
   "source": []
  },
  {
   "cell_type": "markdown",
   "metadata": {},
   "source": [
    "## Q3.\n",
    "Mr. Karthiken works in a door mat manufacturing company. One day, he designed a new door mat with the following specifications:\n",
    "\n",
    "             a) Mat size must be N X M. (N is an odd natural number, and M is 3 times N.)\n",
    "              b) The design should have ‘WELCOME’ written in the center.\n",
    "              c) The design pattern should only use |, . and – characters.\n",
    "\n",
    "    Sample Design is given above image, Write a python code for this"
   ]
  },
  {
   "cell_type": "code",
   "execution_count": 14,
   "metadata": {},
   "outputs": [
    {
     "name": "stdout",
     "output_type": "stream",
     "text": [
      "Enter the size of the door mat (an odd natural number): 11\n",
      "---------------.|.---------------\n",
      "------------.|..|..|.------------\n",
      "---------.|..|..|..|..|.---------\n",
      "------.|..|..|..|..|..|..|.------\n",
      "---.|..|..|..|..|..|..|..|..|.---\n",
      "-------------WELCOME-------------\n",
      "---.|..|..|..|..|..|..|..|..|.---\n",
      "------.|..|..|..|..|..|..|.------\n",
      "---------.|..|..|..|..|.---------\n",
      "------------.|..|..|.------------\n",
      "---------------.|.---------------\n"
     ]
    }
   ],
   "source": [
    "def print_door_mat(N, M):\n",
    "    pattern = '.|.'\n",
    "    welcome = 'WELCOME'\n",
    "\n",
    "    # Print the top pattern\n",
    "    for i in range(N // 2):\n",
    "        print((pattern * (2 * i + 1)).center(M, '-'))\n",
    "\n",
    "    # Print the welcome message\n",
    "    print(welcome.center(M, '-'))\n",
    "\n",
    "    # Print the bottom pattern in reverse order\n",
    "    for i in range(N // 2 - 1, -1, -1):\n",
    "        print((pattern * (2 * i + 1)).center(M, '-'))\n",
    "\n",
    "# Input the size of the door mat\n",
    "N = int(input(\"Enter the size of the door mat (an odd natural number): \"))\n",
    "M = 3 * N  # Calculate M based on the size of N\n",
    "print_door_mat(N, M)\n"
   ]
  },
  {
   "cell_type": "code",
   "execution_count": null,
   "metadata": {},
   "outputs": [],
   "source": []
  },
  {
   "cell_type": "markdown",
   "metadata": {},
   "source": [
    "## Q4.\n",
    "Given an array nums of n integers, return an array of all the unique quadruplets [nums[a], nums[b], nums[c], nums[d]] such that:\n",
    "\n",
    "   a) 0 <= a, b, c, d < n\n",
    "   b) a, b, c, and d are distinct.\n",
    "   c) nums[a] + nums[b] + nums[c] + nums[d] == target\n"
   ]
  },
  {
   "cell_type": "code",
   "execution_count": 15,
   "metadata": {},
   "outputs": [
    {
     "name": "stdout",
     "output_type": "stream",
     "text": [
      "[[-2, -1, 1, 2], [-2, 0, 0, 2], [-1, 0, 0, 1]]\n"
     ]
    }
   ],
   "source": [
    "def four_sum(nums, target):\n",
    "    nums.sort()  # Sort the array to simplify the search process\n",
    "    quadruplets = []\n",
    "\n",
    "    # Fix the first element and apply threeSum approach for the remaining elements\n",
    "    for i in range(len(nums) - 3):\n",
    "        # Avoid duplicate quadruplets by skipping the same value for the first element\n",
    "        if i > 0 and nums[i] == nums[i - 1]:\n",
    "            continue\n",
    "\n",
    "        # Reduce the problem to threeSum by finding triplets that sum up to 'target - nums[i]'\n",
    "        for j in range(i + 1, len(nums) - 2):\n",
    "            # Avoid duplicate quadruplets by skipping the same value for the second element\n",
    "            if j > i + 1 and nums[j] == nums[j - 1]:\n",
    "                continue\n",
    "\n",
    "            left = j + 1\n",
    "            right = len(nums) - 1\n",
    "\n",
    "            while left < right:\n",
    "                current_sum = nums[i] + nums[j] + nums[left] + nums[right]\n",
    "\n",
    "                if current_sum == target:\n",
    "                    quadruplets.append([nums[i], nums[j], nums[left], nums[right]])\n",
    "\n",
    "                    # Avoid duplicate quadruplets by skipping the same value for the third and fourth elements\n",
    "                    while left < right and nums[left] == nums[left + 1]:\n",
    "                        left += 1\n",
    "                    while left < right and nums[right] == nums[right - 1]:\n",
    "                        right -= 1\n",
    "\n",
    "                    left += 1\n",
    "                    right -= 1\n",
    "                elif current_sum < target:\n",
    "                    left += 1\n",
    "                else:\n",
    "                    right -= 1\n",
    "\n",
    "    return quadruplets\n",
    "\n",
    "# Example usage:\n",
    "nums = [1, 0, -1, 0, -2, 2]\n",
    "target = 0\n",
    "print(four_sum(nums, target))  \n"
   ]
  },
  {
   "cell_type": "code",
   "execution_count": null,
   "metadata": {},
   "outputs": [],
   "source": []
  },
  {
   "cell_type": "code",
   "execution_count": null,
   "metadata": {},
   "outputs": [],
   "source": []
  },
  {
   "cell_type": "code",
   "execution_count": null,
   "metadata": {},
   "outputs": [],
   "source": []
  },
  {
   "cell_type": "code",
   "execution_count": null,
   "metadata": {},
   "outputs": [],
   "source": []
  },
  {
   "cell_type": "code",
   "execution_count": null,
   "metadata": {},
   "outputs": [],
   "source": []
  },
  {
   "cell_type": "code",
   "execution_count": null,
   "metadata": {},
   "outputs": [],
   "source": []
  }
 ],
 "metadata": {
  "kernelspec": {
   "display_name": "Python 3",
   "language": "python",
   "name": "python3"
  },
  "language_info": {
   "codemirror_mode": {
    "name": "ipython",
    "version": 3
   },
   "file_extension": ".py",
   "mimetype": "text/x-python",
   "name": "python",
   "nbconvert_exporter": "python",
   "pygments_lexer": "ipython3",
   "version": "3.7.4"
  }
 },
 "nbformat": 4,
 "nbformat_minor": 2
}
